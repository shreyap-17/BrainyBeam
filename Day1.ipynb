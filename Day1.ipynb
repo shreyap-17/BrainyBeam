{
 "cells": [
  {
   "cell_type": "markdown",
   "metadata": {},
   "source": [
    "# Day1 task : Build a python program which can take input of students with their subject marks, and gives their total marks obtained"
   ]
  },
  {
   "cell_type": "code",
   "execution_count": 1,
   "metadata": {
    "scrolled": true
   },
   "outputs": [
    {
     "name": "stdout",
     "output_type": "stream",
     "text": [
      "Enter No. Of Student: 2\n",
      "Enter Name: shreya\n",
      "Enter Number of subject: 1\n",
      "Enter marks(out of 100): 100\n",
      "Enter Name: nihal\n",
      "Enter Number of subject: 2\n",
      "Enter marks(out of 100): 90\n",
      "Enter marks(out of 100): 40\n",
      "Total marks of shreya is 100 .\n",
      "Total marks of nihal is 130 .\n"
     ]
    }
   ],
   "source": [
    "num = int(input(\"Enter No. Of Student: \"))\n",
    "dict = {}\n",
    "i = 0\n",
    "while i<num:\n",
    "    name = input(\"Enter Name: \")\n",
    "    sub_no = int(input(\"Enter Number of subject: \"))\n",
    "    j=0\n",
    "    sum = 0\n",
    "    while j<sub_no:\n",
    "        marks = int(input(\"Enter marks(out of 100): \"))\n",
    "        sum += marks\n",
    "        j += 1\n",
    "    dict.update({name:sum})\n",
    "    i += 1\n",
    "    \n",
    "for key in dict:\n",
    "    print(\"Total marks of\",key,\"is\",dict[key],\".\")"
   ]
  },
  {
   "cell_type": "code",
   "execution_count": null,
   "metadata": {},
   "outputs": [],
   "source": []
  }
 ],
 "metadata": {
  "kernelspec": {
   "display_name": "Python 3",
   "language": "python",
   "name": "python3"
  },
  "language_info": {
   "codemirror_mode": {
    "name": "ipython",
    "version": 3
   },
   "file_extension": ".py",
   "mimetype": "text/x-python",
   "name": "python",
   "nbconvert_exporter": "python",
   "pygments_lexer": "ipython3",
   "version": "3.8.6rc1"
  }
 },
 "nbformat": 4,
 "nbformat_minor": 4
}
