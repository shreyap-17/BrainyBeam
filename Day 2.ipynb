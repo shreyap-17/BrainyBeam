{
 "cells": [
  {
   "cell_type": "markdown",
   "metadata": {},
   "source": [
    "# Data Types\n"
   ]
  },
  {
   "cell_type": "code",
   "execution_count": 11,
   "metadata": {},
   "outputs": [
    {
     "name": "stdout",
     "output_type": "stream",
     "text": [
      "<class 'str'>\n",
      "<class 'int'>\n",
      "<class 'float'>\n",
      "<class 'complex'>\n",
      "<class 'list'>\n",
      "<class 'tuple'>\n",
      "<class 'set'>\n",
      "<class 'dict'>\n"
     ]
    }
   ],
   "source": [
    "d_type = [\"Shreya\", 17, 17.5, 5+7j, [1,2,\"b\"], (4,5,\"c\"), {4,8,\"d\"}, {1:\"a\", 2:\"b\"}]\n",
    "\n",
    "for i in d_type:\n",
    "    print(type(i))"
   ]
  },
  {
   "cell_type": "code",
   "execution_count": 4,
   "metadata": {},
   "outputs": [
    {
     "name": "stdout",
     "output_type": "stream",
     "text": [
      "[1, 2, 3, 'a', 'b', 'c', 4]\n",
      "[1, 2, 3, 4, 'a', 'b', 'c', 4]\n",
      "[1, 3, 4, 'a', 'b', 'c', 4]\n",
      "4\n",
      "1\n",
      "['c', 'b', 'a', 4, 3, 1]\n",
      "[]\n"
     ]
    }
   ],
   "source": [
    "list_1 = [1,2,3,\"a\",\"b\",\"c\"]\n",
    "list_1.append(4)\n",
    "print(list_1)\n",
    "list_1.insert(3,4)\n",
    "print(list_1)\n",
    "list_1.remove(2)\n",
    "print(list_1)\n",
    "print(list_1.pop())\n",
    "print(list_1.count(4))\n",
    "list_1.reverse()\n",
    "list_2 = list_1.copy()\n",
    "print(list_2)\n",
    "list_1.clear()\n",
    "print(list_1)"
   ]
  },
  {
   "cell_type": "markdown",
   "metadata": {},
   "source": [
    "# List"
   ]
  },
  {
   "cell_type": "markdown",
   "metadata": {},
   "source": [
    "# Tuples "
   ]
  },
  {
   "cell_type": "code",
   "execution_count": 6,
   "metadata": {},
   "outputs": [
    {
     "name": "stdout",
     "output_type": "stream",
     "text": [
      "Count of element 5 in tuple is 2\n",
      "Index value of elememt 8 in tuple is 3\n"
     ]
    }
   ],
   "source": [
    "thistuple = (1, 3, 7, 8, 7, 5, 4, 6, 8, 5)\n",
    "\n",
    "x = thistuple.count(5)\n",
    "print(\"Count of element 5 in tuple is\",x)\n",
    "y = thistuple.index(8)\n",
    "print(\"Index value of elememt 8 in tuple is\",y)\n",
    "\n"
   ]
  },
  {
   "cell_type": "markdown",
   "metadata": {},
   "source": [
    "# Sets"
   ]
  },
  {
   "cell_type": "code",
   "execution_count": 8,
   "metadata": {},
   "outputs": [
    {
     "name": "stdout",
     "output_type": "stream",
     "text": [
      "{'a', 'i', 'e', 'u'}\n",
      "Vowels are: {'u', 'e', 'o', 'a', 'i'}\n",
      "{'u', 'e', 'a', 'i'}\n",
      "Are A and B disjoint? True\n",
      "Are A and C disjoint? False\n",
      "True\n",
      "A U B = {2, 'd', 'a', 'c'}\n",
      "A = {1, 'b', 2, 3, 'a'}\n",
      "Vowels (after clear): set()\n"
     ]
    }
   ],
   "source": [
    "# set of vowels\n",
    "vowels = {'a', 'e', 'i', 'u'}\n",
    "print(vowels)\n",
    "# adding 'o'\n",
    "vowels.add('o')\n",
    "print('Vowels are:', vowels)\n",
    "\n",
    "#discard 'o'\n",
    "vowels.discard(\"o\")\n",
    "print(vowels)\n",
    "\n",
    "#isdisjoin()\n",
    "A = {1, 2, 3, 4}\n",
    "B = {5, 6, 7}\n",
    "C = {4, 5, 6}\n",
    "print('Are A and B disjoint?', A.isdisjoint(B))\n",
    "print('Are A and C disjoint?', A.isdisjoint(C))\n",
    "\n",
    "#issubset()\n",
    "A1 = {1, 2, 3}\n",
    "B1 = {1, 2, 3, 4, 5}\n",
    "print(A1.issubset(B1))\n",
    "\n",
    "#union\n",
    "A2 = {'a', 'c', 'd'}\n",
    "B2 = {'c', 'd', 2 }\n",
    "print('A U B =', A2.union(B2))\n",
    "\n",
    "#update\n",
    "A3 = {'a', 'b'}\n",
    "B3 = {1, 2, 3}\n",
    "result = A3.update(B3)\n",
    "print('A =', A3)\n",
    "\n",
    "#clear\n",
    "vowels.clear()\n",
    "print('Vowels (after clear):', vowels)"
   ]
  },
  {
   "cell_type": "markdown",
   "metadata": {},
   "source": [
    "# Dictionary"
   ]
  },
  {
   "cell_type": "code",
   "execution_count": 9,
   "metadata": {},
   "outputs": [
    {
     "name": "stdout",
     "output_type": "stream",
     "text": [
      "Name:  Phill\n",
      "Age:  22\n",
      "dict_items([('name', 'Phill'), ('age', 22)])\n",
      "dict_keys(['name', 'age'])\n",
      "person =  {'name': 'Phill', 'age': 22}\n",
      "Age =  22\n",
      "dict_values(['Phill', 22])\n",
      "{}\n"
     ]
    }
   ],
   "source": [
    "#get()\n",
    "person = {'name': 'Phill', 'age': 22}\n",
    "print('Name: ', person.get('name'))\n",
    "print('Age: ', person.get('age'))\n",
    "\n",
    "#items()\n",
    "print(person.items())\n",
    "\n",
    "#keys\n",
    "print(person.keys())\n",
    "\n",
    "#setdefault()\n",
    "age = person.setdefault('age')\n",
    "print('person = ',person)\n",
    "print('Age = ',age)\n",
    "\n",
    "#values()\n",
    "print(person.values())\n",
    "\n",
    "#clear()\n",
    "person.clear()\n",
    "print(person)\n"
   ]
  }
 ],
 "metadata": {
  "kernelspec": {
   "display_name": "Python 3",
   "language": "python",
   "name": "python3"
  },
  "language_info": {
   "codemirror_mode": {
    "name": "ipython",
    "version": 3
   },
   "file_extension": ".py",
   "mimetype": "text/x-python",
   "name": "python",
   "nbconvert_exporter": "python",
   "pygments_lexer": "ipython3",
   "version": "3.8.6rc1"
  }
 },
 "nbformat": 4,
 "nbformat_minor": 4
}
